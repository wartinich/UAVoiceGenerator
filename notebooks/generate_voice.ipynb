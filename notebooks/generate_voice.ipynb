{
 "cells": [
  {
   "cell_type": "code",
   "execution_count": 3,
   "metadata": {
    "pycharm": {
     "name": "#%%\n"
    }
   },
   "outputs": [
    {
     "ename": "RuntimeError",
     "evalue": "Numpy is not available",
     "output_type": "error",
     "traceback": [
      "\u001B[0;31m---------------------------------------------------------------------------\u001B[0m",
      "\u001B[0;31mRuntimeError\u001B[0m                              Traceback (most recent call last)",
      "Input \u001B[0;32mIn [3]\u001B[0m, in \u001B[0;36m<cell line: 19>\u001B[0;34m()\u001B[0m\n\u001B[1;32m     16\u001B[0m sample_rate \u001B[38;5;241m=\u001B[39m \u001B[38;5;241m48000\u001B[39m\n\u001B[1;32m     17\u001B[0m speaker\u001B[38;5;241m=\u001B[39m\u001B[38;5;124m'\u001B[39m\u001B[38;5;124mmykyta\u001B[39m\u001B[38;5;124m'\u001B[39m\n\u001B[0;32m---> 19\u001B[0m audio_paths \u001B[38;5;241m=\u001B[39m \u001B[43mmodel\u001B[49m\u001B[38;5;241;43m.\u001B[39;49m\u001B[43msave_wav\u001B[49m\u001B[43m(\u001B[49m\u001B[43mtext\u001B[49m\u001B[38;5;241;43m=\u001B[39;49m\u001B[43mexample_text\u001B[49m\u001B[43m,\u001B[49m\n\u001B[1;32m     20\u001B[0m \u001B[43m                             \u001B[49m\u001B[43mspeaker\u001B[49m\u001B[38;5;241;43m=\u001B[39;49m\u001B[43mspeaker\u001B[49m\u001B[43m,\u001B[49m\n\u001B[1;32m     21\u001B[0m \u001B[43m                             \u001B[49m\u001B[43msample_rate\u001B[49m\u001B[38;5;241;43m=\u001B[39;49m\u001B[43msample_rate\u001B[49m\u001B[43m)\u001B[49m\n\u001B[1;32m     23\u001B[0m \u001B[38;5;28mprint\u001B[39m(audio_paths)\n",
      "File \u001B[0;32m<torch_package_1>.multi_acc_v3_package.py:373\u001B[0m, in \u001B[0;36mTTSModelMultiAcc_v3.save_wav\u001B[0;34m(self, text, ssml_text, speaker, audio_path, sample_rate, put_accent, put_yo)\u001B[0m\n\u001B[1;32m    364\u001B[0m     audio_path \u001B[38;5;241m=\u001B[39m \u001B[38;5;124m'\u001B[39m\u001B[38;5;124mtest.wav\u001B[39m\u001B[38;5;124m'\u001B[39m\n\u001B[1;32m    366\u001B[0m audio \u001B[38;5;241m=\u001B[39m \u001B[38;5;28mself\u001B[39m\u001B[38;5;241m.\u001B[39mapply_tts(text\u001B[38;5;241m=\u001B[39mtext,\n\u001B[1;32m    367\u001B[0m                        ssml_text\u001B[38;5;241m=\u001B[39mssml_text,\n\u001B[1;32m    368\u001B[0m                        speaker\u001B[38;5;241m=\u001B[39mspeaker,\n\u001B[1;32m    369\u001B[0m                        sample_rate\u001B[38;5;241m=\u001B[39msample_rate,\n\u001B[1;32m    370\u001B[0m                        put_yo\u001B[38;5;241m=\u001B[39mput_yo,\n\u001B[1;32m    371\u001B[0m                        put_accent\u001B[38;5;241m=\u001B[39mput_accent)\n\u001B[1;32m    372\u001B[0m \u001B[38;5;28mself\u001B[39m\u001B[38;5;241m.\u001B[39mwrite_wave(path\u001B[38;5;241m=\u001B[39maudio_path,\n\u001B[0;32m--> 373\u001B[0m                 audio\u001B[38;5;241m=\u001B[39m\u001B[43m(\u001B[49m\u001B[43maudio\u001B[49m\u001B[43m \u001B[49m\u001B[38;5;241;43m*\u001B[39;49m\u001B[43m \u001B[49m\u001B[38;5;241;43m32767\u001B[39;49m\u001B[43m)\u001B[49m\u001B[38;5;241;43m.\u001B[39;49m\u001B[43mnumpy\u001B[49m\u001B[43m(\u001B[49m\u001B[43m)\u001B[49m\u001B[38;5;241m.\u001B[39mastype(\u001B[38;5;124m'\u001B[39m\u001B[38;5;124mint16\u001B[39m\u001B[38;5;124m'\u001B[39m),\n\u001B[1;32m    374\u001B[0m                 sample_rate\u001B[38;5;241m=\u001B[39msample_rate)\n\u001B[1;32m    375\u001B[0m \u001B[38;5;28;01mreturn\u001B[39;00m audio_path\n",
      "\u001B[0;31mRuntimeError\u001B[0m: Numpy is not available"
     ]
    }
   ],
   "source": [
    "import torch\n",
    "import numpy\n",
    "import os\n",
    "\n",
    "device = torch.device('cpu')\n",
    "torch.set_num_threads(4)\n",
    "local_file = 'model.pt'\n",
    "\n",
    "if not os.path.isfile(local_file):\n",
    "    torch.hub.download_url_to_file('https://models.silero.ai/models/tts/ua/v3_ua.pt', local_file)\n",
    "    \n",
    "model = torch.package.PackageImporter(local_file).load_pickle(\"tts_models\", \"model\")\n",
    "model.to(device)\n",
    "\n",
    "example_text = 'Привіт! Ми з України.'\n",
    "sample_rate = 48000\n",
    "speaker='mykyta'\n",
    "\n",
    "audio_paths = model.save_wav(text=example_text,\n",
    "                             speaker=speaker,\n",
    "                             sample_rate=sample_rate)\n",
    "\n",
    "print(audio_paths)"
   ]
  },
  {
   "cell_type": "code",
   "execution_count": null,
   "metadata": {
    "pycharm": {
     "name": "#%%\n"
    }
   },
   "outputs": [],
   "source": []
  },
  {
   "cell_type": "code",
   "execution_count": null,
   "metadata": {
    "pycharm": {
     "name": "#%%\n"
    }
   },
   "outputs": [],
   "source": []
  },
  {
   "cell_type": "code",
   "execution_count": null,
   "metadata": {
    "pycharm": {
     "name": "#%%\n"
    }
   },
   "outputs": [],
   "source": []
  },
  {
   "cell_type": "code",
   "execution_count": null,
   "metadata": {
    "pycharm": {
     "name": "#%%\n"
    }
   },
   "outputs": [],
   "source": []
  }
 ],
 "metadata": {
  "kernelspec": {
   "display_name": "Python 3 (ipykernel)",
   "language": "python",
   "name": "python3"
  },
  "language_info": {
   "codemirror_mode": {
    "name": "ipython",
    "version": 3
   },
   "file_extension": ".py",
   "mimetype": "text/x-python",
   "name": "python",
   "nbconvert_exporter": "python",
   "pygments_lexer": "ipython3",
   "version": "3.8.10"
  }
 },
 "nbformat": 4,
 "nbformat_minor": 1
}