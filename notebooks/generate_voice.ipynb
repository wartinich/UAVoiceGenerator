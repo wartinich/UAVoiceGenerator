{
 "cells": [
  {
   "cell_type": "code",
   "execution_count": 51,
   "outputs": [
    {
     "ename": "AttributeError",
     "evalue": "module 'os' has no attribute 'getwd'",
     "output_type": "error",
     "traceback": [
      "\u001B[0;31m---------------------------------------------------------------------------\u001B[0m",
      "\u001B[0;31mAttributeError\u001B[0m                            Traceback (most recent call last)",
      "Input \u001B[0;32mIn [51]\u001B[0m, in \u001B[0;36m<cell line: 28>\u001B[0;34m()\u001B[0m\n\u001B[1;32m     26\u001B[0m shutil\u001B[38;5;241m.\u001B[39mmove(\u001B[38;5;124m'\u001B[39m\u001B[38;5;124mtest.wav\u001B[39m\u001B[38;5;124m'\u001B[39m, \u001B[38;5;124m'\u001B[39m\u001B[38;5;124mvoices/test.wav\u001B[39m\u001B[38;5;124m'\u001B[39m)\n\u001B[1;32m     27\u001B[0m os\u001B[38;5;241m.\u001B[39mrename(\u001B[38;5;124m'\u001B[39m\u001B[38;5;124mvoices/test.wav\u001B[39m\u001B[38;5;124m'\u001B[39m, \u001B[38;5;124mf\u001B[39m\u001B[38;5;124m'\u001B[39m\u001B[38;5;124mvoices/\u001B[39m\u001B[38;5;132;01m{\u001B[39;00mgenerate_key\u001B[38;5;132;01m}\u001B[39;00m\u001B[38;5;124m.wav\u001B[39m\u001B[38;5;124m'\u001B[39m)\n\u001B[0;32m---> 28\u001B[0m \u001B[38;5;28mprint\u001B[39m(\u001B[43mos\u001B[49m\u001B[38;5;241;43m.\u001B[39;49m\u001B[43mgetwd\u001B[49m(audio))\n",
      "\u001B[0;31mAttributeError\u001B[0m: module 'os' has no attribute 'getwd'"
     ]
    }
   ],
   "source": [
    "import torch\n",
    "import numpy\n",
    "import os\n",
    "import shutil\n",
    "import uuid\n",
    "\n",
    "\n",
    "device = torch.device('cpu')\n",
    "torch.set_num_threads(4)\n",
    "local_file = 'model.pt'\n",
    "\n",
    "\n",
    "if not os.path.isfile(local_file):\n",
    "    torch.hub.download_url_to_file('https://models.silero.ai/models/tts/ua/v3_ua.pt', local_file)\n",
    "\n",
    "model = torch.package.PackageImporter(local_file).load_pickle(\"tts_models\", \"model\")\n",
    "model.to(device)\n",
    "\n",
    "example_text = 'Привіт! Ми з України.'\n",
    "sample_rate = 8000\n",
    "speaker='mykyta'\n",
    "\n",
    "generate_key = str(uuid.uuid4())\n",
    "\n",
    "audio = model.save_wav(text=example_text, speaker=speaker, sample_rate=sample_rate)\n",
    "shutil.move('test.wav', 'voices/test.wav')\n",
    "os.rename('voices/test.wav', f'voices/{generate_key}.wav')\n",
    "print(os.getwd(audio))"
   ],
   "metadata": {
    "collapsed": false,
    "pycharm": {
     "name": "#%%\n"
    }
   }
  },
  {
   "cell_type": "code",
   "execution_count": null,
   "outputs": [],
   "source": [],
   "metadata": {
    "collapsed": false,
    "pycharm": {
     "name": "#%%\n"
    }
   }
  }
 ],
 "metadata": {
  "kernelspec": {
   "display_name": "Python 3 (ipykernel)",
   "language": "python",
   "name": "python3"
  },
  "language_info": {
   "codemirror_mode": {
    "name": "ipython",
    "version": 3
   },
   "file_extension": ".py",
   "mimetype": "text/x-python",
   "name": "python",
   "nbconvert_exporter": "python",
   "pygments_lexer": "ipython3",
   "version": "3.8.10"
  }
 },
 "nbformat": 4,
 "nbformat_minor": 1
}