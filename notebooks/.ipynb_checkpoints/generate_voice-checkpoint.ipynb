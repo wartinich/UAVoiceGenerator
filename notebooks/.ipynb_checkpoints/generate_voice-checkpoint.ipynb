{
 "cells": [
  {
   "cell_type": "code",
   "execution_count": 3,
   "metadata": {
    "pycharm": {
     "name": "#%%\n"
    }
   },
   "outputs": [
    {
     "ename": "RuntimeError",
     "evalue": "Numpy is not available",
     "output_type": "error",
     "traceback": [
      "\u001b[0;31m---------------------------------------------------------------------------\u001b[0m",
      "\u001b[0;31mRuntimeError\u001b[0m                              Traceback (most recent call last)",
      "Input \u001b[0;32mIn [3]\u001b[0m, in \u001b[0;36m<cell line: 19>\u001b[0;34m()\u001b[0m\n\u001b[1;32m     16\u001b[0m sample_rate \u001b[38;5;241m=\u001b[39m \u001b[38;5;241m48000\u001b[39m\n\u001b[1;32m     17\u001b[0m speaker\u001b[38;5;241m=\u001b[39m\u001b[38;5;124m'\u001b[39m\u001b[38;5;124mmykyta\u001b[39m\u001b[38;5;124m'\u001b[39m\n\u001b[0;32m---> 19\u001b[0m audio_paths \u001b[38;5;241m=\u001b[39m \u001b[43mmodel\u001b[49m\u001b[38;5;241;43m.\u001b[39;49m\u001b[43msave_wav\u001b[49m\u001b[43m(\u001b[49m\u001b[43mtext\u001b[49m\u001b[38;5;241;43m=\u001b[39;49m\u001b[43mexample_text\u001b[49m\u001b[43m,\u001b[49m\n\u001b[1;32m     20\u001b[0m \u001b[43m                             \u001b[49m\u001b[43mspeaker\u001b[49m\u001b[38;5;241;43m=\u001b[39;49m\u001b[43mspeaker\u001b[49m\u001b[43m,\u001b[49m\n\u001b[1;32m     21\u001b[0m \u001b[43m                             \u001b[49m\u001b[43msample_rate\u001b[49m\u001b[38;5;241;43m=\u001b[39;49m\u001b[43msample_rate\u001b[49m\u001b[43m)\u001b[49m\n\u001b[1;32m     23\u001b[0m \u001b[38;5;28mprint\u001b[39m(audio_paths)\n",
      "File \u001b[0;32m<torch_package_1>.multi_acc_v3_package.py:373\u001b[0m, in \u001b[0;36mTTSModelMultiAcc_v3.save_wav\u001b[0;34m(self, text, ssml_text, speaker, audio_path, sample_rate, put_accent, put_yo)\u001b[0m\n\u001b[1;32m    364\u001b[0m     audio_path \u001b[38;5;241m=\u001b[39m \u001b[38;5;124m'\u001b[39m\u001b[38;5;124mtest.wav\u001b[39m\u001b[38;5;124m'\u001b[39m\n\u001b[1;32m    366\u001b[0m audio \u001b[38;5;241m=\u001b[39m \u001b[38;5;28mself\u001b[39m\u001b[38;5;241m.\u001b[39mapply_tts(text\u001b[38;5;241m=\u001b[39mtext,\n\u001b[1;32m    367\u001b[0m                        ssml_text\u001b[38;5;241m=\u001b[39mssml_text,\n\u001b[1;32m    368\u001b[0m                        speaker\u001b[38;5;241m=\u001b[39mspeaker,\n\u001b[1;32m    369\u001b[0m                        sample_rate\u001b[38;5;241m=\u001b[39msample_rate,\n\u001b[1;32m    370\u001b[0m                        put_yo\u001b[38;5;241m=\u001b[39mput_yo,\n\u001b[1;32m    371\u001b[0m                        put_accent\u001b[38;5;241m=\u001b[39mput_accent)\n\u001b[1;32m    372\u001b[0m \u001b[38;5;28mself\u001b[39m\u001b[38;5;241m.\u001b[39mwrite_wave(path\u001b[38;5;241m=\u001b[39maudio_path,\n\u001b[0;32m--> 373\u001b[0m                 audio\u001b[38;5;241m=\u001b[39m\u001b[43m(\u001b[49m\u001b[43maudio\u001b[49m\u001b[43m \u001b[49m\u001b[38;5;241;43m*\u001b[39;49m\u001b[43m \u001b[49m\u001b[38;5;241;43m32767\u001b[39;49m\u001b[43m)\u001b[49m\u001b[38;5;241;43m.\u001b[39;49m\u001b[43mnumpy\u001b[49m\u001b[43m(\u001b[49m\u001b[43m)\u001b[49m\u001b[38;5;241m.\u001b[39mastype(\u001b[38;5;124m'\u001b[39m\u001b[38;5;124mint16\u001b[39m\u001b[38;5;124m'\u001b[39m),\n\u001b[1;32m    374\u001b[0m                 sample_rate\u001b[38;5;241m=\u001b[39msample_rate)\n\u001b[1;32m    375\u001b[0m \u001b[38;5;28;01mreturn\u001b[39;00m audio_path\n",
      "\u001b[0;31mRuntimeError\u001b[0m: Numpy is not available"
     ]
    }
   ],
   "source": [
    "import torch\n",
    "import numpy\n",
    "import os\n",
    "\n",
    "device = torch.device('cpu')\n",
    "torch.set_num_threads(4)\n",
    "local_file = 'model.pt'\n",
    "\n",
    "if not os.path.isfile(local_file):\n",
    "    torch.hub.download_url_to_file('https://models.silero.ai/models/tts/ua/v3_ua.pt', local_file)\n",
    "    \n",
    "model = torch.package.PackageImporter(local_file).load_pickle(\"tts_models\", \"model\")\n",
    "model.to(device)\n",
    "\n",
    "example_text = 'Привіт! Ми з України.'\n",
    "sample_rate = 48000\n",
    "speaker='mykyta'\n",
    "\n",
    "audio_paths = model.save_wav(text=example_text,\n",
    "                             speaker=speaker,\n",
    "                             sample_rate=sample_rate)\n",
    "\n",
    "print(audio_paths)"
   ]
  },
  {
   "cell_type": "code",
   "execution_count": null,
   "metadata": {
    "pycharm": {
     "name": "#%%\n"
    }
   },
   "outputs": [],
   "source": []
  },
  {
   "cell_type": "code",
   "execution_count": null,
   "metadata": {
    "pycharm": {
     "name": "#%%\n"
    }
   },
   "outputs": [],
   "source": []
  },
  {
   "cell_type": "code",
   "execution_count": null,
   "metadata": {
    "pycharm": {
     "name": "#%%\n"
    }
   },
   "outputs": [],
   "source": []
  },
  {
   "cell_type": "code",
   "execution_count": null,
   "metadata": {
    "pycharm": {
     "name": "#%%\n"
    }
   },
   "outputs": [],
   "source": []
  }
 ],
 "metadata": {
  "kernelspec": {
   "display_name": "Python 3 (ipykernel)",
   "language": "python",
   "name": "python3"
  },
  "language_info": {
   "codemirror_mode": {
    "name": "ipython",
    "version": 3
   },
   "file_extension": ".py",
   "mimetype": "text/x-python",
   "name": "python",
   "nbconvert_exporter": "python",
   "pygments_lexer": "ipython3",
   "version": "3.8.10"
  }
 },
 "nbformat": 4,
 "nbformat_minor": 1
}
